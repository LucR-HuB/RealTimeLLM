{
 "cells": [
  {
   "cell_type": "code",
   "execution_count": null,
   "metadata": {},
   "outputs": [
    {
     "name": "stdout",
     "output_type": "stream",
     "text": [
      "[ 0.2 km] Pace slightly slower, but keep pushing! 5.6 km/h is within reach.\n",
      "[ 1.2 km] Keep pushing! Your pace is strong, but a bit faster pace will get you closer to your target.\n",
      "[ 2.2 km] Keep pushing! Your pace is close to the target. Focus and you'll reach the finish line in no time.\n",
      "[ 3.2 km] Keep pushing! Your pace is great, focus on maintaining it for the remaining distance.\n",
      "[ 4.2 km] Eyes on the target! Maintain that smooth stride, and you'll reach the finish in under 13 minutes.\n",
      "[ 5.2 km] Keep pushing! Your current pace is good, but let's aim for that 5.17 min/km to maximize your training.\n",
      "[ 6.2 km] Pace looking good! Keep pushing for that 5.17 target. 💪\n",
      "[ 7.2 km] Eyes on the target! Your pace is close, keep pushing for the final kilometer.\n",
      "[ 8.2 km] Eyes on the prize! You're in the final stretch. Keep pushing for a 5.67km pace.\n",
      "[ 9.2 km] Keep pushing! You're in the final stretch and can reach your target pace.\n",
      "[10.2 km] Eyes on the prize! You're nearing the finish. Keep that pace up and you'll cross in under 57 minutes.\n"
     ]
    }
   ],
   "source": [
    "\n",
    "SYSTEM_PROMPT = \"\"\"You are an enthusiastic yet concise running coach.\n",
    "Your role is to deliver a real-time update in 1–2 sentences (≤ 35 words).\n",
    "Speak to the runner in the second person singular. Never invent numbers.\n",
    "\"\"\"\n",
    "\n",
    "USER_TEMPLATE = \"\"\"\n",
    "Current data\n",
    "------------\n",
    "Address              : {Address}\n",
    "Distance covered     : {Distance_done_km:.1f} km\n",
    "Distance remaining   : {Distance_remaining_km:.1f} km\n",
    "Current pace         : {Actual_pace} min/km\n",
    "Target pace          : {Target_pace} min/km\n",
    "Heart rate           : {Heart_rate_bpm} bpm\n",
    "\"\"\"\n",
    "\n",
    "def build_prompt(row):\n",
    "    return SYSTEM_PROMPT + USER_TEMPLATE.format(\n",
    "        Address=row[\"Address\"],\n",
    "        Distance_done_km=row[\"Distance_done_m\"] / 1000,\n",
    "        Distance_remaining_km=row[\"Distance_remaining_m\"] / 1000,\n",
    "        Actual_pace=row[\"Actual_pace_min_per_km\"],\n",
    "        Target_pace=row[\"Target_pace_min_per_km\"],\n",
    "        Heart_rate_bpm=row[\"Heart_rate_bpm\"],\n",
    "    )\n",
    "\n",
    "import subprocess\n",
    "from typing import Optional, List\n",
    "\n",
    "class OllamaLLM:\n",
    "    \"\"\"Wrapper synchrone autour de `ollama run`.\"\"\"\n",
    "    def __init__(self, model_name=\"gemma:latest\"): \n",
    "        self.model_name = model_name\n",
    "\n",
    "    def __call__(self, prompt, stop=None):\n",
    "        import subprocess\n",
    "        res = subprocess.run(\n",
    "            [\"ollama\", \"run\", self.model_name],\n",
    "            input=prompt,\n",
    "            capture_output=True,\n",
    "            text=True,\n",
    "            timeout=180,\n",
    "        )\n",
    "        if res.returncode != 0:\n",
    "            raise RuntimeError(res.stderr.strip())\n",
    "        out = res.stdout.strip()\n",
    "        out = out.split(\"\\n\")[0]\n",
    "        if stop:\n",
    "            for tok in stop:\n",
    "                out = out.split(tok)[0]\n",
    "        return out\n",
    "import pandas as pd, pathlib, sys\n",
    "\n",
    "df = pd.read_excel(\"../data/runningluc.xlsx\", engine=\"openpyxl\")\n",
    "\n",
    "\n",
    "llm = OllamaLLM(\"gemma:latest\")   \n",
    "for _, row in df.iloc[::5].iterrows():\n",
    "    prompt  = build_prompt(row)\n",
    "    message = llm(prompt)         \n",
    "    km      = row[\"Distance_done_m\"] / 1000\n",
    "    print(f\"[{km:4.1f} km] {message}\")"
   ]
  },
  {
   "cell_type": "code",
   "execution_count": null,
   "metadata": {},
   "outputs": [],
   "source": []
  }
 ],
 "metadata": {
  "kernelspec": {
   "display_name": ".venv",
   "language": "python",
   "name": "python3"
  },
  "language_info": {
   "codemirror_mode": {
    "name": "ipython",
    "version": 3
   },
   "file_extension": ".py",
   "mimetype": "text/x-python",
   "name": "python",
   "nbconvert_exporter": "python",
   "pygments_lexer": "ipython3",
   "version": "3.13.5"
  }
 },
 "nbformat": 4,
 "nbformat_minor": 2
}
